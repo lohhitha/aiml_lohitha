{
 "cells": [
  {
   "cell_type": "code",
   "execution_count": 39,
   "id": "ce028315-35f6-451f-956e-90e80a69a280",
   "metadata": {},
   "outputs": [],
   "source": [
    "#Load the libraries\n",
    "import pandas as pd\n",
    "import numpy as np\n",
    "import matplotlib.pyplot as plt\n",
    "import seaborn as sns"
   ]
  },
  {
   "cell_type": "code",
   "execution_count": 40,
   "id": "76737ccc-9f46-4888-ac10-00da123b4f28",
   "metadata": {},
   "outputs": [
    {
     "name": "stdout",
     "output_type": "stream",
     "text": [
      "     Unnamed: 0  Ozone  Solar.R  Wind Temp C Month  Day  Year  Temp Weather\n",
      "0             1   41.0    190.0   7.4     67     5    1  2010    67       S\n",
      "1             2   36.0    118.0   8.0     72     5    2  2010    72       C\n",
      "2             3   12.0    149.0  12.6     74     5    3  2010    74      PS\n",
      "3             4   18.0    313.0  11.5     62     5    4  2010    62       S\n",
      "4             5    NaN      NaN  14.3     56     5    5  2010    56       S\n",
      "..          ...    ...      ...   ...    ...   ...  ...   ...   ...     ...\n",
      "153         154   41.0    190.0   7.4     67     5    1  2010    67       C\n",
      "154         155   30.0    193.0   6.9     70     9   26  2010    70      PS\n",
      "155         156    NaN    145.0  13.2     77     9   27  2010    77       S\n",
      "156         157   14.0    191.0  14.3     75     9   28  2010    75       S\n",
      "157         158   18.0    131.0   8.0     76     9   29  2010    76       C\n",
      "\n",
      "[158 rows x 10 columns]\n"
     ]
    }
   ],
   "source": [
    "data = pd.read_csv(\"data_clean.csv\")\n",
    "print(data)"
   ]
  },
  {
   "cell_type": "code",
   "execution_count": 47,
   "id": "a2bad64c-a175-4d49-b5f8-022e49ab8fe2",
   "metadata": {},
   "outputs": [
    {
     "data": {
      "text/html": [
       "<div>\n",
       "<style scoped>\n",
       "    .dataframe tbody tr th:only-of-type {\n",
       "        vertical-align: middle;\n",
       "    }\n",
       "\n",
       "    .dataframe tbody tr th {\n",
       "        vertical-align: top;\n",
       "    }\n",
       "\n",
       "    .dataframe thead th {\n",
       "        text-align: right;\n",
       "    }\n",
       "</style>\n",
       "<table border=\"1\" class=\"dataframe\">\n",
       "  <thead>\n",
       "    <tr style=\"text-align: right;\">\n",
       "      <th></th>\n",
       "      <th>Unnamed: 0</th>\n",
       "      <th>Ozone</th>\n",
       "      <th>Solar.R</th>\n",
       "      <th>Wind</th>\n",
       "      <th>Temp C</th>\n",
       "      <th>Month</th>\n",
       "      <th>Day</th>\n",
       "      <th>Year</th>\n",
       "      <th>Temp</th>\n",
       "      <th>Weather</th>\n",
       "    </tr>\n",
       "  </thead>\n",
       "  <tbody>\n",
       "    <tr>\n",
       "      <th>153</th>\n",
       "      <td>154</td>\n",
       "      <td>41.0</td>\n",
       "      <td>190.0</td>\n",
       "      <td>7.4</td>\n",
       "      <td>67</td>\n",
       "      <td>5</td>\n",
       "      <td>1</td>\n",
       "      <td>2010</td>\n",
       "      <td>67</td>\n",
       "      <td>C</td>\n",
       "    </tr>\n",
       "    <tr>\n",
       "      <th>154</th>\n",
       "      <td>155</td>\n",
       "      <td>30.0</td>\n",
       "      <td>193.0</td>\n",
       "      <td>6.9</td>\n",
       "      <td>70</td>\n",
       "      <td>9</td>\n",
       "      <td>26</td>\n",
       "      <td>2010</td>\n",
       "      <td>70</td>\n",
       "      <td>PS</td>\n",
       "    </tr>\n",
       "    <tr>\n",
       "      <th>155</th>\n",
       "      <td>156</td>\n",
       "      <td>NaN</td>\n",
       "      <td>145.0</td>\n",
       "      <td>13.2</td>\n",
       "      <td>77</td>\n",
       "      <td>9</td>\n",
       "      <td>27</td>\n",
       "      <td>2010</td>\n",
       "      <td>77</td>\n",
       "      <td>S</td>\n",
       "    </tr>\n",
       "    <tr>\n",
       "      <th>156</th>\n",
       "      <td>157</td>\n",
       "      <td>14.0</td>\n",
       "      <td>191.0</td>\n",
       "      <td>14.3</td>\n",
       "      <td>75</td>\n",
       "      <td>9</td>\n",
       "      <td>28</td>\n",
       "      <td>2010</td>\n",
       "      <td>75</td>\n",
       "      <td>S</td>\n",
       "    </tr>\n",
       "    <tr>\n",
       "      <th>157</th>\n",
       "      <td>158</td>\n",
       "      <td>18.0</td>\n",
       "      <td>131.0</td>\n",
       "      <td>8.0</td>\n",
       "      <td>76</td>\n",
       "      <td>9</td>\n",
       "      <td>29</td>\n",
       "      <td>2010</td>\n",
       "      <td>76</td>\n",
       "      <td>C</td>\n",
       "    </tr>\n",
       "  </tbody>\n",
       "</table>\n",
       "</div>"
      ],
      "text/plain": [
       "     Unnamed: 0  Ozone  Solar.R  Wind Temp C Month  Day  Year  Temp Weather\n",
       "153         154   41.0    190.0   7.4     67     5    1  2010    67       C\n",
       "154         155   30.0    193.0   6.9     70     9   26  2010    70      PS\n",
       "155         156    NaN    145.0  13.2     77     9   27  2010    77       S\n",
       "156         157   14.0    191.0  14.3     75     9   28  2010    75       S\n",
       "157         158   18.0    131.0   8.0     76     9   29  2010    76       C"
      ]
     },
     "execution_count": 47,
     "metadata": {},
     "output_type": "execute_result"
    }
   ],
   "source": [
    "data.tail()"
   ]
  },
  {
   "cell_type": "code",
   "execution_count": 55,
   "id": "88c9473e-18b8-4b8f-bc36-bcdd706d5489",
   "metadata": {},
   "outputs": [
    {
     "name": "stdout",
     "output_type": "stream",
     "text": [
      "<class 'pandas.core.frame.DataFrame'>\n",
      "RangeIndex: 158 entries, 0 to 157\n",
      "Data columns (total 10 columns):\n",
      " #   Column      Non-Null Count  Dtype  \n",
      "---  ------      --------------  -----  \n",
      " 0   Unnamed: 0  158 non-null    int64  \n",
      " 1   Ozone       120 non-null    float64\n",
      " 2   Solar.R     151 non-null    float64\n",
      " 3   Wind        158 non-null    float64\n",
      " 4   Temp C      158 non-null    object \n",
      " 5   Month       158 non-null    object \n",
      " 6   Day         158 non-null    int64  \n",
      " 7   Year        158 non-null    int64  \n",
      " 8   Temp        158 non-null    int64  \n",
      " 9   Weather     155 non-null    object \n",
      "dtypes: float64(3), int64(4), object(3)\n",
      "memory usage: 12.5+ KB\n"
     ]
    }
   ],
   "source": [
    "data.info()"
   ]
  },
  {
   "cell_type": "code",
   "execution_count": 67,
   "id": "d363937c-9b48-4439-9384-63968881b4af",
   "metadata": {},
   "outputs": [
    {
     "data": {
      "text/html": [
       "<div>\n",
       "<style scoped>\n",
       "    .dataframe tbody tr th:only-of-type {\n",
       "        vertical-align: middle;\n",
       "    }\n",
       "\n",
       "    .dataframe tbody tr th {\n",
       "        vertical-align: top;\n",
       "    }\n",
       "\n",
       "    .dataframe thead th {\n",
       "        text-align: right;\n",
       "    }\n",
       "</style>\n",
       "<table border=\"1\" class=\"dataframe\">\n",
       "  <thead>\n",
       "    <tr style=\"text-align: right;\">\n",
       "      <th></th>\n",
       "      <th>Unnamed: 0</th>\n",
       "      <th>Ozone</th>\n",
       "      <th>Solar.R</th>\n",
       "      <th>Wind</th>\n",
       "      <th>Temp C</th>\n",
       "      <th>Month</th>\n",
       "      <th>Day</th>\n",
       "      <th>Year</th>\n",
       "      <th>Temp</th>\n",
       "      <th>Weather</th>\n",
       "    </tr>\n",
       "  </thead>\n",
       "  <tbody>\n",
       "    <tr>\n",
       "      <th>0</th>\n",
       "      <td>1</td>\n",
       "      <td>41.0</td>\n",
       "      <td>190.0</td>\n",
       "      <td>7.4</td>\n",
       "      <td>67</td>\n",
       "      <td>5</td>\n",
       "      <td>1</td>\n",
       "      <td>2010</td>\n",
       "      <td>67</td>\n",
       "      <td>S</td>\n",
       "    </tr>\n",
       "    <tr>\n",
       "      <th>1</th>\n",
       "      <td>2</td>\n",
       "      <td>36.0</td>\n",
       "      <td>118.0</td>\n",
       "      <td>8.0</td>\n",
       "      <td>72</td>\n",
       "      <td>5</td>\n",
       "      <td>2</td>\n",
       "      <td>2010</td>\n",
       "      <td>72</td>\n",
       "      <td>C</td>\n",
       "    </tr>\n",
       "    <tr>\n",
       "      <th>2</th>\n",
       "      <td>3</td>\n",
       "      <td>12.0</td>\n",
       "      <td>149.0</td>\n",
       "      <td>12.6</td>\n",
       "      <td>74</td>\n",
       "      <td>5</td>\n",
       "      <td>3</td>\n",
       "      <td>2010</td>\n",
       "      <td>74</td>\n",
       "      <td>PS</td>\n",
       "    </tr>\n",
       "    <tr>\n",
       "      <th>3</th>\n",
       "      <td>4</td>\n",
       "      <td>18.0</td>\n",
       "      <td>313.0</td>\n",
       "      <td>11.5</td>\n",
       "      <td>62</td>\n",
       "      <td>5</td>\n",
       "      <td>4</td>\n",
       "      <td>2010</td>\n",
       "      <td>62</td>\n",
       "      <td>S</td>\n",
       "    </tr>\n",
       "    <tr>\n",
       "      <th>4</th>\n",
       "      <td>5</td>\n",
       "      <td>NaN</td>\n",
       "      <td>NaN</td>\n",
       "      <td>14.3</td>\n",
       "      <td>56</td>\n",
       "      <td>5</td>\n",
       "      <td>5</td>\n",
       "      <td>2010</td>\n",
       "      <td>56</td>\n",
       "      <td>S</td>\n",
       "    </tr>\n",
       "    <tr>\n",
       "      <th>...</th>\n",
       "      <td>...</td>\n",
       "      <td>...</td>\n",
       "      <td>...</td>\n",
       "      <td>...</td>\n",
       "      <td>...</td>\n",
       "      <td>...</td>\n",
       "      <td>...</td>\n",
       "      <td>...</td>\n",
       "      <td>...</td>\n",
       "      <td>...</td>\n",
       "    </tr>\n",
       "    <tr>\n",
       "      <th>153</th>\n",
       "      <td>154</td>\n",
       "      <td>41.0</td>\n",
       "      <td>190.0</td>\n",
       "      <td>7.4</td>\n",
       "      <td>67</td>\n",
       "      <td>5</td>\n",
       "      <td>1</td>\n",
       "      <td>2010</td>\n",
       "      <td>67</td>\n",
       "      <td>C</td>\n",
       "    </tr>\n",
       "    <tr>\n",
       "      <th>154</th>\n",
       "      <td>155</td>\n",
       "      <td>30.0</td>\n",
       "      <td>193.0</td>\n",
       "      <td>6.9</td>\n",
       "      <td>70</td>\n",
       "      <td>9</td>\n",
       "      <td>26</td>\n",
       "      <td>2010</td>\n",
       "      <td>70</td>\n",
       "      <td>PS</td>\n",
       "    </tr>\n",
       "    <tr>\n",
       "      <th>155</th>\n",
       "      <td>156</td>\n",
       "      <td>NaN</td>\n",
       "      <td>145.0</td>\n",
       "      <td>13.2</td>\n",
       "      <td>77</td>\n",
       "      <td>9</td>\n",
       "      <td>27</td>\n",
       "      <td>2010</td>\n",
       "      <td>77</td>\n",
       "      <td>S</td>\n",
       "    </tr>\n",
       "    <tr>\n",
       "      <th>156</th>\n",
       "      <td>157</td>\n",
       "      <td>14.0</td>\n",
       "      <td>191.0</td>\n",
       "      <td>14.3</td>\n",
       "      <td>75</td>\n",
       "      <td>9</td>\n",
       "      <td>28</td>\n",
       "      <td>2010</td>\n",
       "      <td>75</td>\n",
       "      <td>S</td>\n",
       "    </tr>\n",
       "    <tr>\n",
       "      <th>157</th>\n",
       "      <td>158</td>\n",
       "      <td>18.0</td>\n",
       "      <td>131.0</td>\n",
       "      <td>8.0</td>\n",
       "      <td>76</td>\n",
       "      <td>9</td>\n",
       "      <td>29</td>\n",
       "      <td>2010</td>\n",
       "      <td>76</td>\n",
       "      <td>C</td>\n",
       "    </tr>\n",
       "  </tbody>\n",
       "</table>\n",
       "<p>158 rows × 10 columns</p>\n",
       "</div>"
      ],
      "text/plain": [
       "     Unnamed: 0  Ozone  Solar.R  Wind Temp C Month  Day  Year  Temp Weather\n",
       "0             1   41.0    190.0   7.4     67     5    1  2010    67       S\n",
       "1             2   36.0    118.0   8.0     72     5    2  2010    72       C\n",
       "2             3   12.0    149.0  12.6     74     5    3  2010    74      PS\n",
       "3             4   18.0    313.0  11.5     62     5    4  2010    62       S\n",
       "4             5    NaN      NaN  14.3     56     5    5  2010    56       S\n",
       "..          ...    ...      ...   ...    ...   ...  ...   ...   ...     ...\n",
       "153         154   41.0    190.0   7.4     67     5    1  2010    67       C\n",
       "154         155   30.0    193.0   6.9     70     9   26  2010    70      PS\n",
       "155         156    NaN    145.0  13.2     77     9   27  2010    77       S\n",
       "156         157   14.0    191.0  14.3     75     9   28  2010    75       S\n",
       "157         158   18.0    131.0   8.0     76     9   29  2010    76       C\n",
       "\n",
       "[158 rows x 10 columns]"
      ]
     },
     "execution_count": 67,
     "metadata": {},
     "output_type": "execute_result"
    }
   ],
   "source": [
    "data"
   ]
  },
  {
   "cell_type": "code",
   "execution_count": 69,
   "id": "601f2807-0477-4286-bcd0-d77b636b78bc",
   "metadata": {},
   "outputs": [
    {
     "name": "stdout",
     "output_type": "stream",
     "text": [
      "<class 'pandas.core.frame.DataFrame'>\n",
      "(158, 10)\n"
     ]
    }
   ],
   "source": [
    "print(type(data))\n",
    "print(data.shape)"
   ]
  },
  {
   "cell_type": "code",
   "execution_count": 72,
   "id": "a8c52f79-b740-4f2b-a027-ef8296b82383",
   "metadata": {},
   "outputs": [
    {
     "data": {
      "text/plain": [
       "(158, 10)"
      ]
     },
     "execution_count": 72,
     "metadata": {},
     "output_type": "execute_result"
    }
   ],
   "source": [
    "data.shape"
   ]
  },
  {
   "cell_type": "code",
   "execution_count": 76,
   "id": "41a77f5f-6928-4627-b1e6-88506efd6da3",
   "metadata": {},
   "outputs": [
    {
     "data": {
      "text/plain": [
       "Unnamed: 0      int64\n",
       "Ozone         float64\n",
       "Solar.R       float64\n",
       "Wind          float64\n",
       "Temp C         object\n",
       "Month          object\n",
       "Day             int64\n",
       "Year            int64\n",
       "Temp            int64\n",
       "Weather        object\n",
       "dtype: object"
      ]
     },
     "execution_count": 76,
     "metadata": {},
     "output_type": "execute_result"
    }
   ],
   "source": [
    "data.dtypes"
   ]
  },
  {
   "cell_type": "code",
   "execution_count": 82,
   "id": "54f647c2-743e-4f75-b8bd-ff28c27e2bcf",
   "metadata": {},
   "outputs": [
    {
     "data": {
      "text/html": [
       "<div>\n",
       "<style scoped>\n",
       "    .dataframe tbody tr th:only-of-type {\n",
       "        vertical-align: middle;\n",
       "    }\n",
       "\n",
       "    .dataframe tbody tr th {\n",
       "        vertical-align: top;\n",
       "    }\n",
       "\n",
       "    .dataframe thead th {\n",
       "        text-align: right;\n",
       "    }\n",
       "</style>\n",
       "<table border=\"1\" class=\"dataframe\">\n",
       "  <thead>\n",
       "    <tr style=\"text-align: right;\">\n",
       "      <th></th>\n",
       "      <th>Ozone</th>\n",
       "      <th>Solar.R</th>\n",
       "      <th>Wind</th>\n",
       "      <th>Month</th>\n",
       "      <th>Day</th>\n",
       "      <th>Year</th>\n",
       "      <th>Temp</th>\n",
       "      <th>Weather</th>\n",
       "    </tr>\n",
       "  </thead>\n",
       "  <tbody>\n",
       "    <tr>\n",
       "      <th>0</th>\n",
       "      <td>41.0</td>\n",
       "      <td>190.0</td>\n",
       "      <td>7.4</td>\n",
       "      <td>5</td>\n",
       "      <td>1</td>\n",
       "      <td>2010</td>\n",
       "      <td>67</td>\n",
       "      <td>S</td>\n",
       "    </tr>\n",
       "    <tr>\n",
       "      <th>1</th>\n",
       "      <td>36.0</td>\n",
       "      <td>118.0</td>\n",
       "      <td>8.0</td>\n",
       "      <td>5</td>\n",
       "      <td>2</td>\n",
       "      <td>2010</td>\n",
       "      <td>72</td>\n",
       "      <td>C</td>\n",
       "    </tr>\n",
       "    <tr>\n",
       "      <th>2</th>\n",
       "      <td>12.0</td>\n",
       "      <td>149.0</td>\n",
       "      <td>12.6</td>\n",
       "      <td>5</td>\n",
       "      <td>3</td>\n",
       "      <td>2010</td>\n",
       "      <td>74</td>\n",
       "      <td>PS</td>\n",
       "    </tr>\n",
       "    <tr>\n",
       "      <th>3</th>\n",
       "      <td>18.0</td>\n",
       "      <td>313.0</td>\n",
       "      <td>11.5</td>\n",
       "      <td>5</td>\n",
       "      <td>4</td>\n",
       "      <td>2010</td>\n",
       "      <td>62</td>\n",
       "      <td>S</td>\n",
       "    </tr>\n",
       "    <tr>\n",
       "      <th>4</th>\n",
       "      <td>NaN</td>\n",
       "      <td>NaN</td>\n",
       "      <td>14.3</td>\n",
       "      <td>5</td>\n",
       "      <td>5</td>\n",
       "      <td>2010</td>\n",
       "      <td>56</td>\n",
       "      <td>S</td>\n",
       "    </tr>\n",
       "    <tr>\n",
       "      <th>...</th>\n",
       "      <td>...</td>\n",
       "      <td>...</td>\n",
       "      <td>...</td>\n",
       "      <td>...</td>\n",
       "      <td>...</td>\n",
       "      <td>...</td>\n",
       "      <td>...</td>\n",
       "      <td>...</td>\n",
       "    </tr>\n",
       "    <tr>\n",
       "      <th>153</th>\n",
       "      <td>41.0</td>\n",
       "      <td>190.0</td>\n",
       "      <td>7.4</td>\n",
       "      <td>5</td>\n",
       "      <td>1</td>\n",
       "      <td>2010</td>\n",
       "      <td>67</td>\n",
       "      <td>C</td>\n",
       "    </tr>\n",
       "    <tr>\n",
       "      <th>154</th>\n",
       "      <td>30.0</td>\n",
       "      <td>193.0</td>\n",
       "      <td>6.9</td>\n",
       "      <td>9</td>\n",
       "      <td>26</td>\n",
       "      <td>2010</td>\n",
       "      <td>70</td>\n",
       "      <td>PS</td>\n",
       "    </tr>\n",
       "    <tr>\n",
       "      <th>155</th>\n",
       "      <td>NaN</td>\n",
       "      <td>145.0</td>\n",
       "      <td>13.2</td>\n",
       "      <td>9</td>\n",
       "      <td>27</td>\n",
       "      <td>2010</td>\n",
       "      <td>77</td>\n",
       "      <td>S</td>\n",
       "    </tr>\n",
       "    <tr>\n",
       "      <th>156</th>\n",
       "      <td>14.0</td>\n",
       "      <td>191.0</td>\n",
       "      <td>14.3</td>\n",
       "      <td>9</td>\n",
       "      <td>28</td>\n",
       "      <td>2010</td>\n",
       "      <td>75</td>\n",
       "      <td>S</td>\n",
       "    </tr>\n",
       "    <tr>\n",
       "      <th>157</th>\n",
       "      <td>18.0</td>\n",
       "      <td>131.0</td>\n",
       "      <td>8.0</td>\n",
       "      <td>9</td>\n",
       "      <td>29</td>\n",
       "      <td>2010</td>\n",
       "      <td>76</td>\n",
       "      <td>C</td>\n",
       "    </tr>\n",
       "  </tbody>\n",
       "</table>\n",
       "<p>158 rows × 8 columns</p>\n",
       "</div>"
      ],
      "text/plain": [
       "     Ozone  Solar.R  Wind Month  Day  Year  Temp Weather\n",
       "0     41.0    190.0   7.4     5    1  2010    67       S\n",
       "1     36.0    118.0   8.0     5    2  2010    72       C\n",
       "2     12.0    149.0  12.6     5    3  2010    74      PS\n",
       "3     18.0    313.0  11.5     5    4  2010    62       S\n",
       "4      NaN      NaN  14.3     5    5  2010    56       S\n",
       "..     ...      ...   ...   ...  ...   ...   ...     ...\n",
       "153   41.0    190.0   7.4     5    1  2010    67       C\n",
       "154   30.0    193.0   6.9     9   26  2010    70      PS\n",
       "155    NaN    145.0  13.2     9   27  2010    77       S\n",
       "156   14.0    191.0  14.3     9   28  2010    75       S\n",
       "157   18.0    131.0   8.0     9   29  2010    76       C\n",
       "\n",
       "[158 rows x 8 columns]"
      ]
     },
     "execution_count": 82,
     "metadata": {},
     "output_type": "execute_result"
    }
   ],
   "source": [
    "data1 = data.drop(['Unnamed: 0', 'Temp C'], axis = 1)\n",
    "data1"
   ]
  },
  {
   "cell_type": "code",
   "execution_count": 86,
   "id": "08bdf277-d8f6-4578-9206-8ff134331295",
   "metadata": {},
   "outputs": [
    {
     "name": "stdout",
     "output_type": "stream",
     "text": [
      "<class 'pandas.core.frame.DataFrame'>\n",
      "RangeIndex: 158 entries, 0 to 157\n",
      "Data columns (total 8 columns):\n",
      " #   Column   Non-Null Count  Dtype  \n",
      "---  ------   --------------  -----  \n",
      " 0   Ozone    120 non-null    float64\n",
      " 1   Solar.R  151 non-null    float64\n",
      " 2   Wind     158 non-null    float64\n",
      " 3   Month    158 non-null    object \n",
      " 4   Day      158 non-null    int64  \n",
      " 5   Year     158 non-null    int64  \n",
      " 6   Temp     158 non-null    int64  \n",
      " 7   Weather  155 non-null    object \n",
      "dtypes: float64(3), int64(3), object(2)\n",
      "memory usage: 10.0+ KB\n"
     ]
    }
   ],
   "source": [
    "data1.info()"
   ]
  },
  {
   "cell_type": "code",
   "execution_count": 90,
   "id": "fcc077a7-495c-46d4-a96c-95ad2f1499a0",
   "metadata": {},
   "outputs": [
    {
     "name": "stdout",
     "output_type": "stream",
     "text": [
      "<class 'pandas.core.frame.DataFrame'>\n",
      "RangeIndex: 158 entries, 0 to 157\n",
      "Data columns (total 8 columns):\n",
      " #   Column   Non-Null Count  Dtype  \n",
      "---  ------   --------------  -----  \n",
      " 0   Ozone    120 non-null    float64\n",
      " 1   Solar.R  151 non-null    float64\n",
      " 2   Wind     158 non-null    float64\n",
      " 3   Month    157 non-null    float64\n",
      " 4   Day      158 non-null    int64  \n",
      " 5   Year     158 non-null    int64  \n",
      " 6   Temp     158 non-null    int64  \n",
      " 7   Weather  155 non-null    object \n",
      "dtypes: float64(4), int64(3), object(1)\n",
      "memory usage: 10.0+ KB\n"
     ]
    }
   ],
   "source": [
    "data1['Month'] = pd.to_numeric(data['Month'], errors = 'coerce')\n",
    "data1.info()"
   ]
  },
  {
   "cell_type": "code",
   "execution_count": 92,
   "id": "35f5ee17-acba-4c06-8103-a79b95be993d",
   "metadata": {},
   "outputs": [
    {
     "data": {
      "text/html": [
       "<div>\n",
       "<style scoped>\n",
       "    .dataframe tbody tr th:only-of-type {\n",
       "        vertical-align: middle;\n",
       "    }\n",
       "\n",
       "    .dataframe tbody tr th {\n",
       "        vertical-align: top;\n",
       "    }\n",
       "\n",
       "    .dataframe thead th {\n",
       "        text-align: right;\n",
       "    }\n",
       "</style>\n",
       "<table border=\"1\" class=\"dataframe\">\n",
       "  <thead>\n",
       "    <tr style=\"text-align: right;\">\n",
       "      <th></th>\n",
       "      <th>Ozone</th>\n",
       "      <th>Solar.R</th>\n",
       "      <th>Wind</th>\n",
       "      <th>Month</th>\n",
       "      <th>Day</th>\n",
       "      <th>Year</th>\n",
       "      <th>Temp</th>\n",
       "      <th>Weather</th>\n",
       "    </tr>\n",
       "  </thead>\n",
       "  <tbody>\n",
       "    <tr>\n",
       "      <th>156</th>\n",
       "      <td>14.0</td>\n",
       "      <td>191.0</td>\n",
       "      <td>14.3</td>\n",
       "      <td>9.0</td>\n",
       "      <td>28</td>\n",
       "      <td>2010</td>\n",
       "      <td>75</td>\n",
       "      <td>S</td>\n",
       "    </tr>\n",
       "  </tbody>\n",
       "</table>\n",
       "</div>"
      ],
      "text/plain": [
       "     Ozone  Solar.R  Wind  Month  Day  Year  Temp Weather\n",
       "156   14.0    191.0  14.3    9.0   28  2010    75       S"
      ]
     },
     "execution_count": 92,
     "metadata": {},
     "output_type": "execute_result"
    }
   ],
   "source": [
    "data1[data1.duplicated()]"
   ]
  },
  {
   "cell_type": "code",
   "execution_count": 94,
   "id": "c4c62209-54a5-471d-8289-33036802cd4d",
   "metadata": {},
   "outputs": [
    {
     "data": {
      "text/html": [
       "<div>\n",
       "<style scoped>\n",
       "    .dataframe tbody tr th:only-of-type {\n",
       "        vertical-align: middle;\n",
       "    }\n",
       "\n",
       "    .dataframe tbody tr th {\n",
       "        vertical-align: top;\n",
       "    }\n",
       "\n",
       "    .dataframe thead th {\n",
       "        text-align: right;\n",
       "    }\n",
       "</style>\n",
       "<table border=\"1\" class=\"dataframe\">\n",
       "  <thead>\n",
       "    <tr style=\"text-align: right;\">\n",
       "      <th></th>\n",
       "      <th>Ozone</th>\n",
       "      <th>Solar.R</th>\n",
       "      <th>Wind</th>\n",
       "      <th>Month</th>\n",
       "      <th>Day</th>\n",
       "      <th>Year</th>\n",
       "      <th>Temp</th>\n",
       "      <th>Weather</th>\n",
       "    </tr>\n",
       "  </thead>\n",
       "  <tbody>\n",
       "    <tr>\n",
       "      <th>150</th>\n",
       "      <td>14.0</td>\n",
       "      <td>191.0</td>\n",
       "      <td>14.3</td>\n",
       "      <td>9.0</td>\n",
       "      <td>28</td>\n",
       "      <td>2010</td>\n",
       "      <td>75</td>\n",
       "      <td>S</td>\n",
       "    </tr>\n",
       "    <tr>\n",
       "      <th>156</th>\n",
       "      <td>14.0</td>\n",
       "      <td>191.0</td>\n",
       "      <td>14.3</td>\n",
       "      <td>9.0</td>\n",
       "      <td>28</td>\n",
       "      <td>2010</td>\n",
       "      <td>75</td>\n",
       "      <td>S</td>\n",
       "    </tr>\n",
       "  </tbody>\n",
       "</table>\n",
       "</div>"
      ],
      "text/plain": [
       "     Ozone  Solar.R  Wind  Month  Day  Year  Temp Weather\n",
       "150   14.0    191.0  14.3    9.0   28  2010    75       S\n",
       "156   14.0    191.0  14.3    9.0   28  2010    75       S"
      ]
     },
     "execution_count": 94,
     "metadata": {},
     "output_type": "execute_result"
    }
   ],
   "source": [
    "data1[data1.duplicated(keep = False)]"
   ]
  },
  {
   "cell_type": "code",
   "execution_count": 96,
   "id": "8c7d8191-1995-4e54-9f1e-be9135ec0e64",
   "metadata": {},
   "outputs": [
    {
     "data": {
      "text/html": [
       "<div>\n",
       "<style scoped>\n",
       "    .dataframe tbody tr th:only-of-type {\n",
       "        vertical-align: middle;\n",
       "    }\n",
       "\n",
       "    .dataframe tbody tr th {\n",
       "        vertical-align: top;\n",
       "    }\n",
       "\n",
       "    .dataframe thead th {\n",
       "        text-align: right;\n",
       "    }\n",
       "</style>\n",
       "<table border=\"1\" class=\"dataframe\">\n",
       "  <thead>\n",
       "    <tr style=\"text-align: right;\">\n",
       "      <th></th>\n",
       "      <th>Ozone</th>\n",
       "      <th>Solar</th>\n",
       "      <th>Wind</th>\n",
       "      <th>Month</th>\n",
       "      <th>Day</th>\n",
       "      <th>Year</th>\n",
       "      <th>Temperature</th>\n",
       "      <th>Weather</th>\n",
       "    </tr>\n",
       "  </thead>\n",
       "  <tbody>\n",
       "    <tr>\n",
       "      <th>0</th>\n",
       "      <td>41.0</td>\n",
       "      <td>190.0</td>\n",
       "      <td>7.4</td>\n",
       "      <td>5.0</td>\n",
       "      <td>1</td>\n",
       "      <td>2010</td>\n",
       "      <td>67</td>\n",
       "      <td>S</td>\n",
       "    </tr>\n",
       "    <tr>\n",
       "      <th>1</th>\n",
       "      <td>36.0</td>\n",
       "      <td>118.0</td>\n",
       "      <td>8.0</td>\n",
       "      <td>5.0</td>\n",
       "      <td>2</td>\n",
       "      <td>2010</td>\n",
       "      <td>72</td>\n",
       "      <td>C</td>\n",
       "    </tr>\n",
       "    <tr>\n",
       "      <th>2</th>\n",
       "      <td>12.0</td>\n",
       "      <td>149.0</td>\n",
       "      <td>12.6</td>\n",
       "      <td>5.0</td>\n",
       "      <td>3</td>\n",
       "      <td>2010</td>\n",
       "      <td>74</td>\n",
       "      <td>PS</td>\n",
       "    </tr>\n",
       "    <tr>\n",
       "      <th>3</th>\n",
       "      <td>18.0</td>\n",
       "      <td>313.0</td>\n",
       "      <td>11.5</td>\n",
       "      <td>5.0</td>\n",
       "      <td>4</td>\n",
       "      <td>2010</td>\n",
       "      <td>62</td>\n",
       "      <td>S</td>\n",
       "    </tr>\n",
       "    <tr>\n",
       "      <th>4</th>\n",
       "      <td>NaN</td>\n",
       "      <td>NaN</td>\n",
       "      <td>14.3</td>\n",
       "      <td>5.0</td>\n",
       "      <td>5</td>\n",
       "      <td>2010</td>\n",
       "      <td>56</td>\n",
       "      <td>S</td>\n",
       "    </tr>\n",
       "    <tr>\n",
       "      <th>...</th>\n",
       "      <td>...</td>\n",
       "      <td>...</td>\n",
       "      <td>...</td>\n",
       "      <td>...</td>\n",
       "      <td>...</td>\n",
       "      <td>...</td>\n",
       "      <td>...</td>\n",
       "      <td>...</td>\n",
       "    </tr>\n",
       "    <tr>\n",
       "      <th>153</th>\n",
       "      <td>41.0</td>\n",
       "      <td>190.0</td>\n",
       "      <td>7.4</td>\n",
       "      <td>5.0</td>\n",
       "      <td>1</td>\n",
       "      <td>2010</td>\n",
       "      <td>67</td>\n",
       "      <td>C</td>\n",
       "    </tr>\n",
       "    <tr>\n",
       "      <th>154</th>\n",
       "      <td>30.0</td>\n",
       "      <td>193.0</td>\n",
       "      <td>6.9</td>\n",
       "      <td>9.0</td>\n",
       "      <td>26</td>\n",
       "      <td>2010</td>\n",
       "      <td>70</td>\n",
       "      <td>PS</td>\n",
       "    </tr>\n",
       "    <tr>\n",
       "      <th>155</th>\n",
       "      <td>NaN</td>\n",
       "      <td>145.0</td>\n",
       "      <td>13.2</td>\n",
       "      <td>9.0</td>\n",
       "      <td>27</td>\n",
       "      <td>2010</td>\n",
       "      <td>77</td>\n",
       "      <td>S</td>\n",
       "    </tr>\n",
       "    <tr>\n",
       "      <th>156</th>\n",
       "      <td>14.0</td>\n",
       "      <td>191.0</td>\n",
       "      <td>14.3</td>\n",
       "      <td>9.0</td>\n",
       "      <td>28</td>\n",
       "      <td>2010</td>\n",
       "      <td>75</td>\n",
       "      <td>S</td>\n",
       "    </tr>\n",
       "    <tr>\n",
       "      <th>157</th>\n",
       "      <td>18.0</td>\n",
       "      <td>131.0</td>\n",
       "      <td>8.0</td>\n",
       "      <td>9.0</td>\n",
       "      <td>29</td>\n",
       "      <td>2010</td>\n",
       "      <td>76</td>\n",
       "      <td>C</td>\n",
       "    </tr>\n",
       "  </tbody>\n",
       "</table>\n",
       "<p>158 rows × 8 columns</p>\n",
       "</div>"
      ],
      "text/plain": [
       "     Ozone  Solar  Wind  Month  Day  Year  Temperature Weather\n",
       "0     41.0  190.0   7.4    5.0    1  2010           67       S\n",
       "1     36.0  118.0   8.0    5.0    2  2010           72       C\n",
       "2     12.0  149.0  12.6    5.0    3  2010           74      PS\n",
       "3     18.0  313.0  11.5    5.0    4  2010           62       S\n",
       "4      NaN    NaN  14.3    5.0    5  2010           56       S\n",
       "..     ...    ...   ...    ...  ...   ...          ...     ...\n",
       "153   41.0  190.0   7.4    5.0    1  2010           67       C\n",
       "154   30.0  193.0   6.9    9.0   26  2010           70      PS\n",
       "155    NaN  145.0  13.2    9.0   27  2010           77       S\n",
       "156   14.0  191.0  14.3    9.0   28  2010           75       S\n",
       "157   18.0  131.0   8.0    9.0   29  2010           76       C\n",
       "\n",
       "[158 rows x 8 columns]"
      ]
     },
     "execution_count": 96,
     "metadata": {},
     "output_type": "execute_result"
    }
   ],
   "source": [
    "data1.rename({'Solar.R':'Solar','Temp':'Temperature'}, axis = 1,inplace = True)\n",
    "data1"
   ]
  },
  {
   "cell_type": "code",
   "execution_count": 98,
   "id": "f7e8e79d-65f1-452c-8b2c-0c074d023125",
   "metadata": {},
   "outputs": [
    {
     "data": {
      "text/plain": [
       "Ozone          38\n",
       "Solar           7\n",
       "Wind            0\n",
       "Month           1\n",
       "Day             0\n",
       "Year            0\n",
       "Temperature     0\n",
       "Weather         3\n",
       "dtype: int64"
      ]
     },
     "execution_count": 98,
     "metadata": {},
     "output_type": "execute_result"
    }
   ],
   "source": [
    "#Display data1 missing values count in each column using isnull().sum()\n",
    "data1.isnull().sum()"
   ]
  },
  {
   "cell_type": "code",
   "execution_count": 100,
   "id": "a0042ee1-4750-497c-b664-e0c8f42c92ec",
   "metadata": {},
   "outputs": [
    {
     "data": {
      "text/plain": [
       "<Axes: >"
      ]
     },
     "execution_count": 100,
     "metadata": {},
     "output_type": "execute_result"
    },
    {
     "data": {
      "image/png": "[encoded data removed]",
      "text/plain": [
       "<Figure size 640x480 with 2 Axes>"
      ]
     },
     "metadata": {},
     "output_type": "display_data"
    }
   ],
   "source": [
    "#Visualize data1 missing values using graph\n",
    "cols = data1.columns\n",
    "colours = ['Black', 'Yellow']\n",
    "sns.heatmap(data1[cols].isnull(),cmap=sns.color_palette(colours),cbar = True)"
   ]
  },
  {
   "cell_type": "code",
   "execution_count": 101,
   "id": "38cb3808-4212-46a1-8c89-175b3cd4a65a",
   "metadata": {},
   "outputs": [
    {
     "name": "stdout",
     "output_type": "stream",
     "text": [
      "Median of Ozone:  30.5\n",
      "Mean of Ozone:  41.583333333333336\n"
     ]
    }
   ],
   "source": [
    "#Find the mean and median values of each numeric column\n",
    "#Imputation of missing value with median\n",
    "median_ozone = data1[\"Ozone\"].median()\n",
    "mean_ozone = data1[\"Ozone\"].mean()\n",
    "print(\"Median of Ozone: \", median_ozone)\n",
    "print(\"Mean of Ozone: \", mean_ozone)"
   ]
  },
  {
   "cell_type": "code",
   "execution_count": 104,
   "id": "69a8611e-fa93-410f-9c5e-381908fd04c5",
   "metadata": {},
   "outputs": [
    {
     "data": {
      "text/plain": [
       "Ozone          0\n",
       "Solar          7\n",
       "Wind           0\n",
       "Month          1\n",
       "Day            0\n",
       "Year           0\n",
       "Temperature    0\n",
       "Weather        3\n",
       "dtype: int64"
      ]
     },
     "execution_count": 104,
     "metadata": {},
     "output_type": "execute_result"
    }
   ],
   "source": [
    "#Replace the Ozone missing values with median value\n",
    "data1['Ozone'] = data1['Ozone'].fillna(median_ozone)\n",
    "data1.isnull().sum()"
   ]
  },
  {
   "cell_type": "code",
   "execution_count": 106,
   "id": "e81bcc09-1d37-4ff4-b399-76ff942b2859",
   "metadata": {},
   "outputs": [
    {
     "name": "stdout",
     "output_type": "stream",
     "text": [
      "Median of Solar:  197.0\n",
      "Mean of Solar:  185.40397350993376\n"
     ]
    }
   ],
   "source": [
    "median_solar = data1[\"Solar\"].median()\n",
    "mean_solar = data1[\"Solar\"].mean()\n",
    "print(\"Median of Solar: \", median_solar)\n",
    "print(\"Mean of Solar: \", mean_solar)"
   ]
  },
  {
   "cell_type": "code",
   "execution_count": 108,
   "id": "c5a5fbdd-3b3c-4a2c-87bb-9425c2e37616",
   "metadata": {},
   "outputs": [
    {
     "data": {
      "text/plain": [
       "Ozone          0\n",
       "Solar          0\n",
       "Wind           0\n",
       "Month          1\n",
       "Day            0\n",
       "Year           0\n",
       "Temperature    0\n",
       "Weather        3\n",
       "dtype: int64"
      ]
     },
     "execution_count": 108,
     "metadata": {},
     "output_type": "execute_result"
    }
   ],
   "source": [
    "data1['Solar'] = data1['Solar'].fillna(median_solar)\n",
    "data1.isnull().sum()"
   ]
  },
  {
   "cell_type": "code",
   "execution_count": 110,
   "id": "62ec86c7-ce9d-4181-8201-1035b415b9df",
   "metadata": {},
   "outputs": [
    {
     "name": "stdout",
     "output_type": "stream",
     "text": [
      "Weather\n",
      "S     59\n",
      "C     49\n",
      "PS    47\n",
      "Name: count, dtype: int64\n",
      "S\n"
     ]
    }
   ],
   "source": [
    "#Find the mode values of categorical column (weather)\n",
    "print(data1[\"Weather\"].value_counts())\n",
    "mode_weather = data1[\"Weather\"].mode()[0]\n",
    "print(mode_weather)"
   ]
  },
  {
   "cell_type": "code",
   "execution_count": 112,
   "id": "b9ee4eb0-e9b5-4d40-aa0d-36a723806624",
   "metadata": {},
   "outputs": [
    {
     "data": {
      "text/plain": [
       "Ozone          0\n",
       "Solar          0\n",
       "Wind           0\n",
       "Month          1\n",
       "Day            0\n",
       "Year           0\n",
       "Temperature    0\n",
       "Weather        0\n",
       "dtype: int64"
      ]
     },
     "execution_count": 112,
     "metadata": {},
     "output_type": "execute_result"
    }
   ],
   "source": [
    "#Impute missing values (Replace NaN with mode etc.) of \"weather\" using fillna()\n",
    "data1[\"Weather\"] = data1[\"Weather\"].fillna(mode_weather)\n",
    "data1.isnull().sum()"
   ]
  },
  {
   "cell_type": "code",
   "execution_count": 114,
   "id": "129c987b-6fb5-4deb-b3c3-5c64b72ec243",
   "metadata": {},
   "outputs": [
    {
     "name": "stdout",
     "output_type": "stream",
     "text": [
      "Month\n",
      "9.0    34\n",
      "5.0    31\n",
      "7.0    31\n",
      "8.0    31\n",
      "6.0    30\n",
      "Name: count, dtype: int64\n",
      "9.0\n"
     ]
    }
   ],
   "source": [
    "print(data1[\"Month\"].value_counts())\n",
    "mode_month = data1[\"Month\"].mode()[0]\n",
    "print(mode_month)"
   ]
  },
  {
   "cell_type": "code",
   "execution_count": 116,
   "id": "06e92760-db58-4f67-a575-e61edfaa3b8e",
   "metadata": {},
   "outputs": [
    {
     "data": {
      "text/plain": [
       "Ozone          0\n",
       "Solar          0\n",
       "Wind           0\n",
       "Month          0\n",
       "Day            0\n",
       "Year           0\n",
       "Temperature    0\n",
       "Weather        0\n",
       "dtype: int64"
      ]
     },
     "execution_count": 116,
     "metadata": {},
     "output_type": "execute_result"
    }
   ],
   "source": [
    "data1[\"Month\"] = data1[\"Month\"].fillna(mode_month)\n",
    "data1.isnull().sum()"
   ]
  },
  {
   "cell_type": "code",
   "execution_count": 118,
   "id": "7a323f75-5143-40ef-86b1-2071ef22844b",
   "metadata": {},
   "outputs": [
    {
     "data": {
      "text/html": [
       "<div>\n",
       "<style scoped>\n",
       "    .dataframe tbody tr th:only-of-type {\n",
       "        vertical-align: middle;\n",
       "    }\n",
       "\n",
       "    .dataframe tbody tr th {\n",
       "        vertical-align: top;\n",
       "    }\n",
       "\n",
       "    .dataframe thead th {\n",
       "        text-align: right;\n",
       "    }\n",
       "</style>\n",
       "<table border=\"1\" class=\"dataframe\">\n",
       "  <thead>\n",
       "    <tr style=\"text-align: right;\">\n",
       "      <th></th>\n",
       "      <th>Ozone</th>\n",
       "      <th>Solar</th>\n",
       "      <th>Wind</th>\n",
       "      <th>Month</th>\n",
       "      <th>Day</th>\n",
       "      <th>Year</th>\n",
       "      <th>Temperature</th>\n",
       "      <th>Weather</th>\n",
       "    </tr>\n",
       "  </thead>\n",
       "  <tbody>\n",
       "    <tr>\n",
       "      <th>153</th>\n",
       "      <td>41.0</td>\n",
       "      <td>190.0</td>\n",
       "      <td>7.4</td>\n",
       "      <td>5.0</td>\n",
       "      <td>1</td>\n",
       "      <td>2010</td>\n",
       "      <td>67</td>\n",
       "      <td>C</td>\n",
       "    </tr>\n",
       "    <tr>\n",
       "      <th>154</th>\n",
       "      <td>30.0</td>\n",
       "      <td>193.0</td>\n",
       "      <td>6.9</td>\n",
       "      <td>9.0</td>\n",
       "      <td>26</td>\n",
       "      <td>2010</td>\n",
       "      <td>70</td>\n",
       "      <td>PS</td>\n",
       "    </tr>\n",
       "    <tr>\n",
       "      <th>155</th>\n",
       "      <td>30.5</td>\n",
       "      <td>145.0</td>\n",
       "      <td>13.2</td>\n",
       "      <td>9.0</td>\n",
       "      <td>27</td>\n",
       "      <td>2010</td>\n",
       "      <td>77</td>\n",
       "      <td>S</td>\n",
       "    </tr>\n",
       "    <tr>\n",
       "      <th>156</th>\n",
       "      <td>14.0</td>\n",
       "      <td>191.0</td>\n",
       "      <td>14.3</td>\n",
       "      <td>9.0</td>\n",
       "      <td>28</td>\n",
       "      <td>2010</td>\n",
       "      <td>75</td>\n",
       "      <td>S</td>\n",
       "    </tr>\n",
       "    <tr>\n",
       "      <th>157</th>\n",
       "      <td>18.0</td>\n",
       "      <td>131.0</td>\n",
       "      <td>8.0</td>\n",
       "      <td>9.0</td>\n",
       "      <td>29</td>\n",
       "      <td>2010</td>\n",
       "      <td>76</td>\n",
       "      <td>C</td>\n",
       "    </tr>\n",
       "  </tbody>\n",
       "</table>\n",
       "</div>"
      ],
      "text/plain": [
       "     Ozone  Solar  Wind  Month  Day  Year  Temperature Weather\n",
       "153   41.0  190.0   7.4    5.0    1  2010           67       C\n",
       "154   30.0  193.0   6.9    9.0   26  2010           70      PS\n",
       "155   30.5  145.0  13.2    9.0   27  2010           77       S\n",
       "156   14.0  191.0  14.3    9.0   28  2010           75       S\n",
       "157   18.0  131.0   8.0    9.0   29  2010           76       C"
      ]
     },
     "execution_count": 118,
     "metadata": {},
     "output_type": "execute_result"
    }
   ],
   "source": [
    "data1.tail()"
   ]
  },
  {
   "cell_type": "code",
   "execution_count": 120,
   "id": "10e5c113-2fc0-4658-a45c-48c4294697f4",
   "metadata": {},
   "outputs": [
    {
     "data": {
      "text/html": [
       "<div>\n",
       "<style scoped>\n",
       "    .dataframe tbody tr th:only-of-type {\n",
       "        vertical-align: middle;\n",
       "    }\n",
       "\n",
       "    .dataframe tbody tr th {\n",
       "        vertical-align: top;\n",
       "    }\n",
       "\n",
       "    .dataframe thead th {\n",
       "        text-align: right;\n",
       "    }\n",
       "</style>\n",
       "<table border=\"1\" class=\"dataframe\">\n",
       "  <thead>\n",
       "    <tr style=\"text-align: right;\">\n",
       "      <th></th>\n",
       "      <th>Ozone</th>\n",
       "      <th>Solar</th>\n",
       "      <th>Wind</th>\n",
       "      <th>Month</th>\n",
       "      <th>Day</th>\n",
       "      <th>Year</th>\n",
       "      <th>Temperature</th>\n",
       "      <th>Weather</th>\n",
       "    </tr>\n",
       "  </thead>\n",
       "  <tbody>\n",
       "    <tr>\n",
       "      <th>0</th>\n",
       "      <td>41.0</td>\n",
       "      <td>190.0</td>\n",
       "      <td>7.4</td>\n",
       "      <td>5.0</td>\n",
       "      <td>1</td>\n",
       "      <td>2010</td>\n",
       "      <td>67</td>\n",
       "      <td>S</td>\n",
       "    </tr>\n",
       "    <tr>\n",
       "      <th>1</th>\n",
       "      <td>36.0</td>\n",
       "      <td>118.0</td>\n",
       "      <td>8.0</td>\n",
       "      <td>5.0</td>\n",
       "      <td>2</td>\n",
       "      <td>2010</td>\n",
       "      <td>72</td>\n",
       "      <td>C</td>\n",
       "    </tr>\n",
       "    <tr>\n",
       "      <th>2</th>\n",
       "      <td>12.0</td>\n",
       "      <td>149.0</td>\n",
       "      <td>12.6</td>\n",
       "      <td>5.0</td>\n",
       "      <td>3</td>\n",
       "      <td>2010</td>\n",
       "      <td>74</td>\n",
       "      <td>PS</td>\n",
       "    </tr>\n",
       "    <tr>\n",
       "      <th>3</th>\n",
       "      <td>18.0</td>\n",
       "      <td>313.0</td>\n",
       "      <td>11.5</td>\n",
       "      <td>5.0</td>\n",
       "      <td>4</td>\n",
       "      <td>2010</td>\n",
       "      <td>62</td>\n",
       "      <td>S</td>\n",
       "    </tr>\n",
       "    <tr>\n",
       "      <th>4</th>\n",
       "      <td>30.5</td>\n",
       "      <td>197.0</td>\n",
       "      <td>14.3</td>\n",
       "      <td>5.0</td>\n",
       "      <td>5</td>\n",
       "      <td>2010</td>\n",
       "      <td>56</td>\n",
       "      <td>S</td>\n",
       "    </tr>\n",
       "    <tr>\n",
       "      <th>...</th>\n",
       "      <td>...</td>\n",
       "      <td>...</td>\n",
       "      <td>...</td>\n",
       "      <td>...</td>\n",
       "      <td>...</td>\n",
       "      <td>...</td>\n",
       "      <td>...</td>\n",
       "      <td>...</td>\n",
       "    </tr>\n",
       "    <tr>\n",
       "      <th>153</th>\n",
       "      <td>41.0</td>\n",
       "      <td>190.0</td>\n",
       "      <td>7.4</td>\n",
       "      <td>5.0</td>\n",
       "      <td>1</td>\n",
       "      <td>2010</td>\n",
       "      <td>67</td>\n",
       "      <td>C</td>\n",
       "    </tr>\n",
       "    <tr>\n",
       "      <th>154</th>\n",
       "      <td>30.0</td>\n",
       "      <td>193.0</td>\n",
       "      <td>6.9</td>\n",
       "      <td>9.0</td>\n",
       "      <td>26</td>\n",
       "      <td>2010</td>\n",
       "      <td>70</td>\n",
       "      <td>PS</td>\n",
       "    </tr>\n",
       "    <tr>\n",
       "      <th>155</th>\n",
       "      <td>30.5</td>\n",
       "      <td>145.0</td>\n",
       "      <td>13.2</td>\n",
       "      <td>9.0</td>\n",
       "      <td>27</td>\n",
       "      <td>2010</td>\n",
       "      <td>77</td>\n",
       "      <td>S</td>\n",
       "    </tr>\n",
       "    <tr>\n",
       "      <th>156</th>\n",
       "      <td>14.0</td>\n",
       "      <td>191.0</td>\n",
       "      <td>14.3</td>\n",
       "      <td>9.0</td>\n",
       "      <td>28</td>\n",
       "      <td>2010</td>\n",
       "      <td>75</td>\n",
       "      <td>S</td>\n",
       "    </tr>\n",
       "    <tr>\n",
       "      <th>157</th>\n",
       "      <td>18.0</td>\n",
       "      <td>131.0</td>\n",
       "      <td>8.0</td>\n",
       "      <td>9.0</td>\n",
       "      <td>29</td>\n",
       "      <td>2010</td>\n",
       "      <td>76</td>\n",
       "      <td>C</td>\n",
       "    </tr>\n",
       "  </tbody>\n",
       "</table>\n",
       "<p>158 rows × 8 columns</p>\n",
       "</div>"
      ],
      "text/plain": [
       "     Ozone  Solar  Wind  Month  Day  Year  Temperature Weather\n",
       "0     41.0  190.0   7.4    5.0    1  2010           67       S\n",
       "1     36.0  118.0   8.0    5.0    2  2010           72       C\n",
       "2     12.0  149.0  12.6    5.0    3  2010           74      PS\n",
       "3     18.0  313.0  11.5    5.0    4  2010           62       S\n",
       "4     30.5  197.0  14.3    5.0    5  2010           56       S\n",
       "..     ...    ...   ...    ...  ...   ...          ...     ...\n",
       "153   41.0  190.0   7.4    5.0    1  2010           67       C\n",
       "154   30.0  193.0   6.9    9.0   26  2010           70      PS\n",
       "155   30.5  145.0  13.2    9.0   27  2010           77       S\n",
       "156   14.0  191.0  14.3    9.0   28  2010           75       S\n",
       "157   18.0  131.0   8.0    9.0   29  2010           76       C\n",
       "\n",
       "[158 rows x 8 columns]"
      ]
     },
     "execution_count": 120,
     "metadata": {},
     "output_type": "execute_result"
    }
   ],
   "source": [
    "#Reset the index column\n",
    "data1.reset_index(drop = True)"
   ]
  },
  {
   "cell_type": "code",
   "execution_count": 27,
   "id": "451a59cb-347f-4f4d-9e1f-f1ccbfcd9cd5",
   "metadata": {},
   "outputs": [
    {
     "data": {
      "image/png": "[encoded data removed]",
      "text/plain": [
       "<Figure size 800x600 with 2 Axes>"
      ]
     },
     "metadata": {},
     "output_type": "display_data"
    }
   ],
   "source": [
    "#Create a figure with two subplots, stacked vertically\n",
    "fig, axes = plt.subplots(2,1, figsize=(8,6), gridspec_kw={'height_ratios' : [1,3]})\n",
    "\n",
    "#Plot the boxplot in the first (top) subplot\n",
    "sns.boxplot(data=data1[\"Ozone\"], ax=axes[0], color='skyblue', width=0.5, orient = 'h')\n",
    "axes[0].set_title(\"Boxplot\")\n",
    "axes[0].set_xlabel(\"Ozone Levels\")\n",
    "\n",
    "#Plot the histogram with KDE curve in the second (bottom) subplot\n",
    "sns.histplot(data1[\"Ozone\"], kde=True, ax=axes[1], color='purple', bins=30)\n",
    "axes[1].set_title(\"Histogram with KDE\")\n",
    "axes[1].set_xlabel(\"Ozone Levels\")\n",
    "axes[1].set_ylabel(\"Frequency\")\n",
    "\n",
    "#Adjust layout for better spacing\n",
    "plt.tight_layout()\n",
    "\n",
    "#Show the plot\n",
    "plt.show()"
   ]
  },
  {
   "cell_type": "markdown",
   "id": "e68fd5fd-47eb-4a00-a496-4063522022d8",
   "metadata": {},
   "source": [
    "# Observations\n",
    "- # The ozone column has extreme values beyond 81 as seen from box plot\n",
    "- # The same is confirmed from the below right-skewed histogram"
   ]
  },
  {
   "cell_type": "code",
   "execution_count": 29,
   "id": "5f2a3c8c-1c3b-4c05-b27d-2dd98faf64cd",
   "metadata": {},
   "outputs": [
    {
     "data": {
      "image/png": "[encoded data removed]",
      "text/plain": [
       "<Figure size 800x600 with 2 Axes>"
      ]
     },
     "metadata": {},
     "output_type": "display_data"
    }
   ],
   "source": [
    "#Create a figure with two subplots, stacked vertically\n",
    "fig, axes = plt.subplots(2,1, figsize=(8,6), gridspec_kw={'height_ratios' : [1,3]})\n",
    "\n",
    "#Plot the boxplot in the first (top) subplot\n",
    "sns.boxplot(data=data1[\"Solar\"], ax=axes[0], color='red', width=0.5, orient = 'h')\n",
    "axes[0].set_title(\"Boxplot\")\n",
    "axes[0].set_xlabel(\"Solar Levels\")\n",
    "\n",
    "#Plot the histogram with KDE curve in the second (bottom) subplot\n",
    "sns.histplot(data1[\"Solar\"], kde=True, ax=axes[1], color='black', bins=30)\n",
    "axes[1].set_title(\"Histogram with KDE\")\n",
    "axes[1].set_xlabel(\"Solar Levels\")\n",
    "axes[1].set_ylabel(\"Frequency\")\n",
    "\n",
    "#Adjust layout for better spacing\n",
    "plt.tight_layout()\n",
    "\n",
    "#Show the plot\n",
    "plt.show()"
   ]
  },
  {
   "cell_type": "markdown",
   "id": "e1f1f71e-564f-45f5-bfd6-ff88ef274505",
   "metadata": {},
   "source": [
    "# Observations\n",
    "- # Is slightly left-skewed"
   ]
  },
  {
   "cell_type": "code",
   "execution_count": 31,
   "id": "ab4e0ac6-523b-4303-b719-68177e708b11",
   "metadata": {},
   "outputs": [
    {
     "data": {
      "text/plain": [
       "Text(0.5, 1.0, 'violin\\xa0Plot')"
      ]
     },
     "execution_count": 31,
     "metadata": {},
     "output_type": "execute_result"
    },
    {
     "data": {
      "image/png": "[encoded data removed]",
      "text/plain": [
       "<Figure size 640x480 with 1 Axes>"
      ]
     },
     "metadata": {},
     "output_type": "display_data"
    }
   ],
   "source": [
    "# Create a figure for violin plot\n",
    "sns.violinplot(data=data1[\"Ozone\"], color='lightgreen')\n",
    "plt.title(\"violin Plot\")"
   ]
  },
  {
   "cell_type": "code",
   "execution_count": 32,
   "id": "9681ae2f-33d5-4bbd-84e7-a0424639a8af",
   "metadata": {},
   "outputs": [
    {
     "data": {
      "text/plain": [
       "[array([115., 135.,  97.,  97.,  85., 108.,  82., 122.,  89., 110., 168.,\n",
       "        118.,  84.,  85.,  96.,  91.])]"
      ]
     },
     "execution_count": 32,
     "metadata": {},
     "output_type": "execute_result"
    },
    {
     "data": {
      "image/png": "[encoded data removed]",
      "text/plain": [
       "<Figure size 600x200 with 1 Axes>"
      ]
     },
     "metadata": {},
     "output_type": "display_data"
    }
   ],
   "source": [
    "plt.figure(figsize=(6,2))\n",
    "boxplot_data = plt.boxplot(data1[\"Ozone\"], vert=False)\n",
    "[item.get_xdata() for item in boxplot_data['fliers']]"
   ]
  },
  {
   "cell_type": "code",
   "execution_count": 33,
   "id": "c2552c0d-bc64-4c4d-86cd-c080cc9898c5",
   "metadata": {},
   "outputs": [
    {
     "data": {
      "text/plain": [
       "count    158.000000\n",
       "mean      38.917722\n",
       "std       28.794730\n",
       "min        1.000000\n",
       "25%       21.000000\n",
       "50%       30.500000\n",
       "75%       45.000000\n",
       "max      168.000000\n",
       "Name: Ozone, dtype: float64"
      ]
     },
     "execution_count": 33,
     "metadata": {},
     "output_type": "execute_result"
    }
   ],
   "source": [
    "data1[\"Ozone\"].describe()"
   ]
  },
  {
   "cell_type": "code",
   "execution_count": 34,
   "id": "973153da-59f4-475e-8a25-c5b0b846e914",
   "metadata": {},
   "outputs": [
    {
     "name": "stdout",
     "output_type": "stream",
     "text": [
      "135.0\n",
      "168.0\n"
     ]
    },
    {
     "name": "stderr",
     "output_type": "stream",
     "text": [
      "C:\\Users\\kogan\\AppData\\Local\\Temp\\ipykernel_26324\\3121128980.py:1: FutureWarning: Series.__getitem__ treating keys as positions is deprecated. In a future version, integer keys will always be treated as labels (consistent with DataFrame behavior). To access a value by position, use `ser.iloc[pos]`\n",
      "  mu = data1[\"Ozone\"].describe()[1]\n",
      "C:\\Users\\kogan\\AppData\\Local\\Temp\\ipykernel_26324\\3121128980.py:2: FutureWarning: Series.__getitem__ treating keys as positions is deprecated. In a future version, integer keys will always be treated as labels (consistent with DataFrame behavior). To access a value by position, use `ser.iloc[pos]`\n",
      "  sigma = data1[\"Ozone\"].describe()[2]\n"
     ]
    }
   ],
   "source": [
    "mu = data1[\"Ozone\"].describe()[1]\n",
    "sigma = data1[\"Ozone\"].describe()[2]\n",
    "\n",
    "for x in data1[\"Ozone\"]:\n",
    "    if ((x < (mu - 3*sigma)) or (x > (mu + 3*sigma))):\n",
    "        print(x)"
   ]
  },
  {
   "cell_type": "code",
   "execution_count": 35,
   "id": "6a335410-f640-424b-bbd9-c65bce684895",
   "metadata": {},
   "outputs": [
    {
     "data": {
      "text/plain": [
       "Text(0.5, 0, 'Theoretical Quantiles')"
      ]
     },
     "execution_count": 35,
     "metadata": {},
     "output_type": "execute_result"
    },
    {
     "data": {
      "image/png": "[encoded data removed]",
      "text/plain": [
       "<Figure size 800x600 with 1 Axes>"
      ]
     },
     "metadata": {},
     "output_type": "display_data"
    }
   ],
   "source": [
    "import scipy.stats as stats\n",
    "\n",
    "#Create Q-Q plot\n",
    "plt.figure(figsize=(8,6))\n",
    "stats.probplot(data1[\"Ozone\"], dist=\"norm\", plot=plt)\n",
    "plt.title(\"Q-Q Plot for Outliers Detection\", fontsize=14)\n",
    "plt.xlabel(\"Theoretical Quantiles\", fontsize=12)"
   ]
  },
  {
   "cell_type": "markdown",
   "id": "c21e1ef5-8ddd-4ff4-acd8-a9291b19ece1",
   "metadata": {},
   "source": [
    "# Observations from Q-Q plot\n",
    "- # The data does not follow normal distribution as the data points are deviating significantly away from the red line\n",
    "- # The data shows a right-skewed distribution and possible outliers\n"
   ]
  },
  {
   "cell_type": "markdown",
   "id": "e4bb0b6b-38a2-4e93-ac8e-77584a83aa03",
   "metadata": {},
   "source": [
    "# Other visualisations that could help in the detecion of outliers"
   ]
  },
  {
   "cell_type": "code",
   "execution_count": 122,
   "id": "adcbaa3a-040a-4e34-bec7-861de06b8ad9",
   "metadata": {},
   "outputs": [
    {
     "data": {
      "image/png": "[encoded data removed]",
      "text/plain": [
       "<Figure size 640x480 with 1 Axes>"
      ]
     },
     "metadata": {},
     "output_type": "display_data"
    }
   ],
   "source": [
    "# Create a figure for violin plot\n",
    "sns.violinplot(data=data1[\"Ozone\"], color='indigo')\n",
    "\n",
    "#Show the plot\n",
    "plt.show()"
   ]
  },
  {
   "cell_type": "code",
   "execution_count": 124,
   "id": "53c2b2f6-5ea3-4ae9-87a7-0c1d75751c3d",
   "metadata": {},
   "outputs": [
    {
     "name": "stderr",
     "output_type": "stream",
     "text": [
      "C:\\Users\\kogan\\AppData\\Local\\Temp\\ipykernel_26324\\4155478963.py:1: FutureWarning: \n",
      "\n",
      "Passing `palette` without assigning `hue` is deprecated and will be removed in v0.14.0. Assign the `x` variable to `hue` and set `legend=False` for the same effect.\n",
      "\n",
      "  sns.swarmplot(data=data1, x = \"Weather\", y = \"Ozone\", color=\"orange\", palette=\"Set2\", size=6)\n"
     ]
    },
    {
     "data": {
      "text/plain": [
       "<Axes: xlabel='Weather', ylabel='Ozone'>"
      ]
     },
     "execution_count": 124,
     "metadata": {},
     "output_type": "execute_result"
    },
    {
     "data": {
      "image/png": "[encoded data removed]",
      "text/plain": [
       "<Figure size 640x480 with 1 Axes>"
      ]
     },
     "metadata": {},
     "output_type": "display_data"
    }
   ],
   "source": [
    "sns.swarmplot(data=data1, x = \"Weather\", y = \"Ozone\", color=\"orange\", palette=\"Set2\", size=6)"
   ]
  },
  {
   "cell_type": "code",
   "execution_count": 130,
   "id": "05793ecf-e47c-4e28-bfcb-8c08d4dfbd67",
   "metadata": {},
   "outputs": [
    {
     "name": "stderr",
     "output_type": "stream",
     "text": [
      "C:\\Users\\kogan\\AppData\\Local\\Temp\\ipykernel_26324\\674868485.py:1: FutureWarning: \n",
      "\n",
      "Passing `palette` without assigning `hue` is deprecated and will be removed in v0.14.0. Assign the `x` variable to `hue` and set `legend=False` for the same effect.\n",
      "\n",
      "  sns.stripplot(data=data1, x = \"Weather\", y = \"Ozone\", color=\"orange\", palette=\"Set1\", size=6, jitter = True)\n"
     ]
    },
    {
     "data": {
      "text/plain": [
       "<Axes: xlabel='Weather', ylabel='Ozone'>"
      ]
     },
     "execution_count": 130,
     "metadata": {},
     "output_type": "execute_result"
    },
    {
     "data": {
      "image/png": "[encoded data removed]",
      "text/plain": [
       "<Figure size 640x480 with 1 Axes>"
      ]
     },
     "metadata": {},
     "output_type": "display_data"
    }
   ],
   "source": [
    "sns.stripplot(data=data1, x = \"Weather\", y = \"Ozone\", color=\"orange\", palette=\"Set1\", size=6, jitter = True)"
   ]
  },
  {
   "cell_type": "code",
   "execution_count": 128,
   "id": "0f773aa9-62d9-4db0-996e-229e9e8b30b0",
   "metadata": {},
   "outputs": [
    {
     "data": {
      "text/plain": [
       "<Axes: xlabel='Ozone', ylabel='Density'>"
      ]
     },
     "execution_count": 128,
     "metadata": {},
     "output_type": "execute_result"
    },
    {
     "data": {
      "image/png": "[encoded data removed]",
      "text/plain": [
       "<Figure size 640x480 with 1 Axes>"
      ]
     },
     "metadata": {},
     "output_type": "display_data"
    }
   ],
   "source": [
    "sns.kdeplot(data=data1[\"Ozone\"], fill=True,color=\"blue\")\n",
    "sns.rugplot(data=data1[\"Ozone\"], color=\"black\")"
   ]
  },
  {
   "cell_type": "code",
   "execution_count": 132,
   "id": "0d40f0e5-24b1-4ea0-8512-1f169eb49ba5",
   "metadata": {},
   "outputs": [
    {
     "data": {
      "text/plain": [
       "<Axes: xlabel='Weather', ylabel='Ozone'>"
      ]
     },
     "execution_count": 132,
     "metadata": {},
     "output_type": "execute_result"
    },
    {
     "data": {
      "image/png": "[encoded data removed]",
      "text/plain": [
       "<Figure size 640x480 with 1 Axes>"
      ]
     },
     "metadata": {},
     "output_type": "display_data"
    }
   ],
   "source": [
    "#Category wise boxplot for ozone\n",
    "sns.boxplot(data = data1, x = \"Weather\", y = \"Ozone\")"
   ]
  },
  {
   "cell_type": "markdown",
   "id": "2a4d0f83-8eef-45c4-990a-f9be1ab99eb9",
   "metadata": {},
   "source": [
    "# Correlation coefficient and pair plots"
   ]
  },
  {
   "cell_type": "code",
   "execution_count": 137,
   "id": "ff64e212-82d9-42e0-99b7-db0f1fb17bba",
   "metadata": {},
   "outputs": [
    {
     "data": {
      "text/plain": [
       "<matplotlib.collections.PathCollection at 0x148c36f27b0>"
      ]
     },
     "execution_count": 137,
     "metadata": {},
     "output_type": "execute_result"
    },
    {
     "data": {
      "image/png": "[encoded data removed]",
      "text/plain": [
       "<Figure size 640x480 with 1 Axes>"
      ]
     },
     "metadata": {},
     "output_type": "display_data"
    }
   ],
   "source": [
    "plt.scatter(data1[\"Wind\"], data1[\"Temperature\"])"
   ]
  },
  {
   "cell_type": "code",
   "execution_count": 139,
   "id": "a4ea8835-3c1a-4798-a765-091bf946aeb0",
   "metadata": {},
   "outputs": [
    {
     "data": {
      "text/plain": [
       "-0.4412467176312391"
      ]
     },
     "execution_count": 139,
     "metadata": {},
     "output_type": "execute_result"
    }
   ],
   "source": [
    "# Compute pearson correlation coefficient\n",
    "# Between Wind speed and Temperature\n",
    "data1[\"Wind\"].corr(data1[\"Temperature\"])"
   ]
  },
  {
   "cell_type": "markdown",
   "id": "952ec4dc-ee74-42d5-a606-a5d25efe7603",
   "metadata": {},
   "source": [
    "# It is observed there is a slight change in temperature"
   ]
  },
  {
   "cell_type": "code",
   "execution_count": null,
   "id": "9817995a-16a8-437a-8dc1-7096720592a2",
   "metadata": {},
   "outputs": [],
   "source": []
  }
 ],
 "metadata": {
  "kernelspec": {
   "display_name": "Python [conda env:base] *",
   "language": "python",
   "name": "conda-base-py"
  },
  "language_info": {
   "codemirror_mode": {
    "name": "ipython",
    "version": 3
   },
   "file_extension": ".py",
   "mimetype": "text/x-python",
   "name": "python",
   "nbconvert_exporter": "python",
   "pygments_lexer": "ipython3",
   "version": "3.12.7"
  }
 },
 "nbformat": 4,
 "nbformat_minor": 5
}
