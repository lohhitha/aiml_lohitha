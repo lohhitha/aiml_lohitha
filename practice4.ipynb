{
 "cells": [
  {
   "cell_type": "code",
   "execution_count": 1,
   "id": "93dca25e-42e4-408a-894d-3d9b39c77902",
   "metadata": {},
   "outputs": [
    {
     "name": "stdout",
     "output_type": "stream",
     "text": [
      "Good Morning Soumya!\n"
     ]
    }
   ],
   "source": [
    "import compute\n"
   ]
  },
  {
   "cell_type": "code",
   "execution_count": 3,
   "id": "03b78882-0971-4c03-bdd8-53ee191bb389",
   "metadata": {},
   "outputs": [
    {
     "data": {
      "text/plain": [
       "6.0"
      ]
     },
     "execution_count": 3,
     "metadata": {},
     "output_type": "execute_result"
    }
   ],
   "source": [
    "compute.mean_value(6,8,3)"
   ]
  },
  {
   "cell_type": "code",
   "execution_count": null,
   "id": "3203e865-c398-4899-aa23-a47db2991a68",
   "metadata": {},
   "outputs": [],
   "source": []
  }
 ],
 "metadata": {
  "kernelspec": {
   "display_name": "Python [conda env:base] *",
   "language": "python",
   "name": "conda-base-py"
  },
  "language_info": {
   "codemirror_mode": {
    "name": "ipython",
    "version": 3
   },
   "file_extension": ".py",
   "mimetype": "text/x-python",
   "name": "python",
   "nbconvert_exporter": "python",
   "pygments_lexer": "ipython3",
   "version": "3.12.7"
  }
 },
 "nbformat": 4,
 "nbformat_minor": 5
}
